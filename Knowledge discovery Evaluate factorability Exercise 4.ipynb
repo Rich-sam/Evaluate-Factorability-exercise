{
 "cells": [
  {
   "attachments": {},
   "cell_type": "markdown",
   "metadata": {},
   "source": [
    "Consider a dataset contains 90 responses for 14 different variables that customers consider while purchasing car. "
   ]
  },
  {
   "attachments": {},
   "cell_type": "markdown",
   "metadata": {},
   "source": [
    "# Step1:.  Evaluate factorability!"
   ]
  },
  {
   "cell_type": "code",
   "execution_count": 1,
   "metadata": {},
   "outputs": [],
   "source": [
    "#import libraries\n",
    "import pandas as pd\n",
    "import numpy as np\n",
    "from sklearn.decomposition import FactorAnalysis\n",
    "from factor_analyzer import FactorAnalyzer\n",
    "import matplotlib.pyplot as plt\n"
   ]
  },
  {
   "cell_type": "code",
   "execution_count": 2,
   "metadata": {},
   "outputs": [],
   "source": [
    "#step1(b)\n",
    "data=pd.read_csv(\"D:/Data visualization/Dr Mwendia_Class/carpurchase_factors.csv\")\n",
    "#a way of listing attributes\n",
    "attributes=data.columns"
   ]
  },
  {
   "cell_type": "code",
   "execution_count": 3,
   "metadata": {},
   "outputs": [
    {
     "name": "stdout",
     "output_type": "stream",
     "text": [
      "    Price  Safety  Exterior_Looks  Space_comfort  Technology  \\\n",
      "0       4       4               5              4           3   \n",
      "1       3       5               3              3           4   \n",
      "2       4       4               3              4           5   \n",
      "3       4       4               4              3           3   \n",
      "4       5       5               4              4           5   \n",
      "..    ...     ...             ...            ...         ...   \n",
      "85      4       4               3              4           5   \n",
      "86      4       3               4              4           5   \n",
      "87      4       3               4              4           4   \n",
      "88      4       4               3              4           4   \n",
      "89      4       5               3              4           3   \n",
      "\n",
      "    After_Sales_Service  Resale_Value  Fuel_Type  Fuel_Efficiency  Color  \\\n",
      "0                     4             5          4                4      2   \n",
      "1                     4             3          4                3      4   \n",
      "2                     5             5          4                5      4   \n",
      "3                     4             5          5                4      4   \n",
      "4                     4             5          3                4      5   \n",
      "..                  ...           ...        ...              ...    ...   \n",
      "85                    4             4          4                4      4   \n",
      "86                    4             3          4                4      5   \n",
      "87                    5             3          4                4      3   \n",
      "88                    5             3          4                4      4   \n",
      "89                    4             2          4                4      4   \n",
      "\n",
      "    Maintenance  Test_drive  Product_reviews  Testimonials  \n",
      "0             4           2                4             3  \n",
      "1             3           2                2             2  \n",
      "2             5           4                4             3  \n",
      "3             4           2                5             3  \n",
      "4             5           5                5             2  \n",
      "..          ...         ...              ...           ...  \n",
      "85            5           4                5             4  \n",
      "86            4           4                5             4  \n",
      "87            3           2                4             4  \n",
      "88            4           4                4             5  \n",
      "89            4           2                4             3  \n",
      "\n",
      "[90 rows x 14 columns]\n"
     ]
    }
   ],
   "source": [
    "print(data)"
   ]
  },
  {
   "cell_type": "code",
   "execution_count": 4,
   "metadata": {},
   "outputs": [
    {
     "data": {
      "text/plain": [
       "(260.771089474057, 8.93220098429307e-19)"
      ]
     },
     "execution_count": 4,
     "metadata": {},
     "output_type": "execute_result"
    }
   ],
   "source": [
    "#Determine Factorability\n",
    "#use Barlett_sphericity Test\n",
    "from factor_analyzer.factor_analyzer import calculate_bartlett_sphericity\n",
    "chi_square_value,p_value=calculate_bartlett_sphericity(data)\n",
    "chi_square_value,p_value"
   ]
  },
  {
   "attachments": {},
   "cell_type": "markdown",
   "metadata": {},
   "source": [
    "In this example, Bartlett ’s test indicates that the p-value is less than 0.05. Therefore the test was statistically significant, indicating that the observed correlation matrix is not an identity matrix and Factor analysis can be conducted.\n"
   ]
  },
  {
   "cell_type": "code",
   "execution_count": 5,
   "metadata": {},
   "outputs": [
    {
     "name": "stdout",
     "output_type": "stream",
     "text": [
      "\n",
      "KMO Model 0.6091437123668768\n"
     ]
    }
   ],
   "source": [
    "#Determine Factorability\n",
    "#perform KMD test\n",
    "from factor_analyzer.factor_analyzer import calculate_kmo\n",
    "kmo_all,kmo_model=calculate_kmo(data)\n",
    "print('\\nKMO Model',kmo_model)"
   ]
  },
  {
   "attachments": {},
   "cell_type": "markdown",
   "metadata": {},
   "source": [
    "The overall KMO for our data is 0.609, which is mediocre.\n",
    "This value indicates that we can proceed with your planned factor analysis.\n"
   ]
  },
  {
   "attachments": {},
   "cell_type": "markdown",
   "metadata": {},
   "source": [
    "# Step 2: Extract  Factors!"
   ]
  },
  {
   "cell_type": "code",
   "execution_count": 6,
   "metadata": {},
   "outputs": [
    {
     "name": "stdout",
     "output_type": "stream",
     "text": [
      "       Price    Safety  Exterior_Looks  Space_comfort  Technology  \\\n",
      "0  -0.261282  0.105198        0.081019      -0.093802   -0.140787   \n",
      "1   0.063251 -0.168130       -0.184186      -0.379449   -0.268080   \n",
      "2   0.124918  0.124247        0.066854       0.137942    0.117193   \n",
      "3   0.073006 -0.140767        0.344325       0.011100   -0.075386   \n",
      "4  -0.080811  0.064612        0.004853      -0.054486   -0.100244   \n",
      "5   0.065501  0.042757       -0.045711       0.015591   -0.177875   \n",
      "6   0.000000  0.000000       -0.000000       0.000000   -0.000000   \n",
      "7   0.000000 -0.000000       -0.000000       0.000000   -0.000000   \n",
      "8   0.000000  0.000000        0.000000      -0.000000    0.000000   \n",
      "9   0.000000  0.000000        0.000000      -0.000000    0.000000   \n",
      "10 -0.000000  0.000000        0.000000       0.000000   -0.000000   \n",
      "11 -0.000000  0.000000        0.000000      -0.000000    0.000000   \n",
      "12  0.000000 -0.000000       -0.000000      -0.000000   -0.000000   \n",
      "13  0.000000  0.000000        0.000000      -0.000000    0.000000   \n",
      "\n",
      "    After_Sales_Service  Resale_Value  Fuel_Type  Fuel_Efficiency     Color  \\\n",
      "0             -0.227285     -0.639267  -0.096868        -0.522201 -0.374561   \n",
      "1             -0.231970      0.509143  -0.246786        -0.077353  0.077478   \n",
      "2              0.105292      0.191120   0.191240        -0.068592 -0.270385   \n",
      "3             -0.086711      0.155949  -0.048074        -0.053188 -0.283571   \n",
      "4              0.125681      0.117198  -0.034457         0.102018 -0.056040   \n",
      "5             -0.018080     -0.003866   0.029907         0.077214 -0.021238   \n",
      "6             -0.000000     -0.000000  -0.000000        -0.000000  0.000000   \n",
      "7             -0.000000     -0.000000   0.000000        -0.000000  0.000000   \n",
      "8             -0.000000      0.000000   0.000000        -0.000000  0.000000   \n",
      "9              0.000000     -0.000000  -0.000000        -0.000000  0.000000   \n",
      "10             0.000000     -0.000000   0.000000        -0.000000  0.000000   \n",
      "11            -0.000000      0.000000   0.000000         0.000000  0.000000   \n",
      "12             0.000000     -0.000000   0.000000        -0.000000 -0.000000   \n",
      "13            -0.000000     -0.000000   0.000000         0.000000 -0.000000   \n",
      "\n",
      "    Maintenance  Test_drive  Product_reviews  Testimonials  \n",
      "0     -0.469331   -0.310105        -0.404095     -0.016109  \n",
      "1      0.109901   -0.364476        -0.169060     -0.303796  \n",
      "2      0.019158   -0.272942        -0.125378     -0.352102  \n",
      "3     -0.019414    0.195215         0.094990      0.073119  \n",
      "4     -0.079363    0.252502        -0.180379     -0.078021  \n",
      "5     -0.101558   -0.056829         0.067130      0.033185  \n",
      "6      0.000000    0.000000         0.000000     -0.000000  \n",
      "7      0.000000    0.000000        -0.000000     -0.000000  \n",
      "8     -0.000000   -0.000000        -0.000000      0.000000  \n",
      "9     -0.000000    0.000000        -0.000000     -0.000000  \n",
      "10     0.000000   -0.000000        -0.000000     -0.000000  \n",
      "11    -0.000000    0.000000         0.000000     -0.000000  \n",
      "12     0.000000    0.000000         0.000000      0.000000  \n",
      "13     0.000000   -0.000000        -0.000000      0.000000  \n"
     ]
    }
   ],
   "source": [
    "#Extract the factors\n",
    "factor=FactorAnalysis().fit(data)\n",
    "Factors=pd.DataFrame(factor.components_,columns=attributes)\n",
    "print(Factors)"
   ]
  },
  {
   "cell_type": "code",
   "execution_count": null,
   "metadata": {},
   "outputs": [],
   "source": []
  },
  {
   "cell_type": "code",
   "execution_count": 12,
   "metadata": {},
   "outputs": [
    {
     "data": {
      "text/plain": [
       "FactorAnalyzer(bounds=(0.005, 1), impute='median', is_corr_matrix=False,\n",
       "               method='minres', n_factors=3, rotation=None, rotation_kwargs={},\n",
       "               use_smc=True)"
      ]
     },
     "execution_count": 12,
     "metadata": {},
     "output_type": "execute_result"
    }
   ],
   "source": [
    "#choose Factors\n",
    "#Using Kaiser criterion_Get eigen values\n",
    "\n",
    "fa=FactorAnalyzer(rotation=None)\n",
    "fa.fit(data)\n",
    "FactorAnalyzer(bounds=(0.005, 1), impute='median', is_corr_matrix=False,\n",
    "               method='minres', n_factors=3, rotation=None, rotation_kwargs={},\n",
    "               use_smc=True)\n",
    "\n",
    "#check Eigenvalues\n",
    "\n"
   ]
  },
  {
   "cell_type": "code",
   "execution_count": 13,
   "metadata": {},
   "outputs": [
    {
     "data": {
      "text/plain": [
       "array([[ 0.4173656 , -0.17668348, -0.20536068],\n",
       "       [-0.07901537,  0.31749456, -0.176638  ],\n",
       "       [-0.04664407,  0.24116654,  0.00355491],\n",
       "       [ 0.38115015,  0.72455861, -0.18249336],\n",
       "       [ 0.24609196,  0.25505457, -0.07324372],\n",
       "       [ 0.44436381,  0.27146377, -0.12708067],\n",
       "       [ 0.40220556, -0.51972323, -0.22100494],\n",
       "       [ 0.28310253,  0.41305672, -0.26028371],\n",
       "       [ 0.68191509, -0.11410996,  0.09984058],\n",
       "       [ 0.37676588, -0.25476735,  0.25798852],\n",
       "       [ 0.59050535, -0.31484465, -0.06794407],\n",
       "       [ 0.30787321,  0.16883587,  0.25244077],\n",
       "       [ 0.49560538,  0.03252678,  0.2045716 ],\n",
       "       [ 0.11179477,  0.30620795,  0.66441765]])"
      ]
     },
     "execution_count": 13,
     "metadata": {},
     "output_type": "execute_result"
    }
   ],
   "source": [
    "fa.loadings_"
   ]
  },
  {
   "cell_type": "code",
   "execution_count": null,
   "metadata": {},
   "outputs": [],
   "source": []
  }
 ],
 "metadata": {
  "kernelspec": {
   "display_name": "Python 3",
   "language": "python",
   "name": "python3"
  },
  "language_info": {
   "codemirror_mode": {
    "name": "ipython",
    "version": 3
   },
   "file_extension": ".py",
   "mimetype": "text/x-python",
   "name": "python",
   "nbconvert_exporter": "python",
   "pygments_lexer": "ipython3",
   "version": "3.7.6"
  }
 },
 "nbformat": 4,
 "nbformat_minor": 4
}
